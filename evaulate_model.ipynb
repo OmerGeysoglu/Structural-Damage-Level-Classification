{
 "cells": [
  {
   "cell_type": "code",
   "execution_count": 1,
   "metadata": {},
   "outputs": [],
   "source": [
    "from tensorflow.keras.models import load_model\n",
    "from tensorflow.keras.preprocessing.image import ImageDataGenerator\n",
    "from sklearn.metrics import classification_report, confusion_matrix\n",
    "import numpy as np"
   ]
  },
  {
   "cell_type": "code",
   "execution_count": 2,
   "metadata": {},
   "outputs": [],
   "source": [
    "model_paths = {\n",
    "    'VGG19_used': 'best_saved_models/VGG19-live_test_loss_1.04_test_acc_0.57.h5',\n",
    "    'VGG19_alternative': 'best_saved_models/VGG19-test_loss_0.81_test_acc_0.66.h5',\n",
    "    'MobileNetV3Large_alternative': 'best_saved_models/MobileNetV3Large_test_loss_4.11_test_acc_0.67.h5',\n",
    "    'VGG19_iter1': 'saved_models_v4/VGG19/iteration-01-epoch-50-val_loss-0.873-val_acc-0.619.h5',\n",
    "    'VGG19_iter2': 'saved_models_v4/VGG19/iteration-02-epoch-31-val_loss-1.381-val_acc-0.297.h5',\n",
    "    'VGG19_iter3': 'saved_models_v4/VGG19/iteration-03-epoch-37-val_loss-0.904-val_acc-0.593.h5',\n",
    "    'MobileNetV3Large_iter1': 'saved_models_v4/MobileNetV3Large/iteration-01-epoch-150-val_loss-1.063-val_acc-0.518.h5',\n",
    "    #'MobileNetV3Large_iter2': 'saved_models_v2/MobileNetV3Large/iteration-02-epoch-148-val_loss-1.653-val_acc-0.488.h5',\n",
    "    #'MobileNetV3Large_iter3': 'saved_models_v2/MobileNetV3Large/iteration-03-epoch-60-val_loss-1.379-val_acc-0.297.h5',\n",
    "    #'MobileNetV3Large_iter4': 'saved_models_v2/MobileNetV3Large/iteration-04-epoch-150-val_loss-1.795-val_acc-0.537.h5',\n",
    "    #'MobileNetV3Large_iter5': 'saved_models_v2/MobileNetV3Large/iteration-05-epoch-69-val_loss-1.184-val_acc-0.480.h5',\n",
    "}\n",
    "\n"
   ]
  },
  {
   "cell_type": "code",
   "execution_count": null,
   "metadata": {},
   "outputs": [],
   "source": [
    "test_datagen = ImageDataGenerator(rescale=1.0/255)\n",
    "test_generator = test_datagen.flow_from_directory(\n",
    "    'data_splitted_v2/test',\n",
    "    target_size=(224, 224),\n",
    "    batch_size=32,\n",
    "    class_mode='categorical')"
   ]
  },
  {
   "cell_type": "code",
   "execution_count": null,
   "metadata": {},
   "outputs": [],
   "source": [
    "for model_name, model_path in model_paths.items():\n",
    "    print(f\"Testing {model_name}\")\n",
    "    model = load_model(model_path)\n",
    "\n",
    "    # Model ile test veri setini değerlendirme\n",
    "    test_loss, test_accuracy = model.evaluate(test_generator)\n",
    "    print(f'Test Loss: {test_loss}')\n",
    "    print(f'Test Accuracy: {test_accuracy}')\n",
    "\n",
    "    # Sınıflandırma raporu ve karmaşıklık matrisi\n",
    "    predictions = model.predict(test_generator)\n",
    "    predicted_classes = np.argmax(predictions, axis=1)\n",
    "    true_classes = test_generator.classes\n",
    "    class_labels = list(test_generator.class_indices.keys())\n",
    "\n",
    "    print('Classification Report')\n",
    "    print(classification_report(true_classes, predicted_classes, target_names=class_labels))\n",
    "\n",
    "    conf_matrix = confusion_matrix(true_classes, predicted_classes)\n",
    "    print('Confusion Matrix')\n",
    "    print(conf_matrix)\n",
    "    print(\"\\n\" + \"-\"*50 + \"\\n\")"
   ]
  },
  {
   "cell_type": "code",
   "execution_count": null,
   "metadata": {},
   "outputs": [],
   "source": [
    "# batch of test images and their true labels\n",
    "x_test, y_test = next(test_generator)\n",
    "predictions = model.predict(x_test)\n",
    "predicted_classes = np.argmax(predictions, axis=1)  \n",
    "true_classes = np.argmax(y_test, axis=1)  \n",
    "class_labels = list(test_generator.class_indices.keys())"
   ]
  },
  {
   "cell_type": "code",
   "execution_count": null,
   "metadata": {},
   "outputs": [],
   "source": [
    "# first 10 classes among all samples\n",
    "print(f'Predicted Classes: {predicted_classes[:10]}')\n",
    "print(f'True Classes: {true_classes[:10]}')"
   ]
  },
  {
   "cell_type": "code",
   "execution_count": null,
   "metadata": {},
   "outputs": [],
   "source": [
    "import matplotlib.pyplot as plt\n",
    "\n",
    "# Plot the first 10 test images with their predicted and true labels\n",
    "fig, axes = plt.subplots(2, 5, figsize=(15, 6))\n",
    "axes = axes.flatten()\n",
    "\n",
    "for i in range(10):\n",
    "    img = x_test[i]\n",
    "    true_label = class_labels[true_classes[i]]\n",
    "    predicted_label = class_labels[predicted_classes[i]]\n",
    "    \n",
    "    axes[i].imshow(img)\n",
    "    axes[i].set_title(f\"True: {true_label}\\nPred: {predicted_label}\")\n",
    "    axes[i].axis('off')  # Hide the axis\n",
    "\n",
    "plt.tight_layout()\n",
    "plt.show()"
   ]
  },
  {
   "cell_type": "code",
   "execution_count": null,
   "metadata": {},
   "outputs": [],
   "source": [
    "print('Classification Report')\n",
    "print(classification_report(true_classes, predicted_classes, target_names=class_labels))\n",
    "\n",
    "conf_matrix = confusion_matrix(true_classes, predicted_classes)\n",
    "print('Confusion Matrix')\n",
    "print(conf_matrix)"
   ]
  },
  {
   "cell_type": "code",
   "execution_count": null,
   "metadata": {},
   "outputs": [],
   "source": [
    "import seaborn as sns\n",
    "\n",
    "plt.figure(figsize=(10, 8))\n",
    "sns.heatmap(conf_matrix, annot=True, fmt='d', cmap='Blues', xticklabels=class_labels, yticklabels=class_labels)\n",
    "plt.title('Confusion Matrix')\n",
    "plt.xlabel('Predicted Class')\n",
    "plt.ylabel('True Class')\n",
    "plt.show()"
   ]
  },
  {
   "cell_type": "code",
   "execution_count": null,
   "metadata": {},
   "outputs": [],
   "source": []
  }
 ],
 "metadata": {
  "kernelspec": {
   "display_name": ".venv",
   "language": "python",
   "name": "python3"
  },
  "language_info": {
   "codemirror_mode": {
    "name": "ipython",
    "version": 3
   },
   "file_extension": ".py",
   "mimetype": "text/x-python",
   "name": "python",
   "nbconvert_exporter": "python",
   "pygments_lexer": "ipython3",
   "version": "3.9.6"
  }
 },
 "nbformat": 4,
 "nbformat_minor": 2
}
